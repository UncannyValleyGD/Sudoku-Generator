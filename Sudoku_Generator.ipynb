{
  "nbformat": 4,
  "nbformat_minor": 0,
  "metadata": {
    "colab": {
      "provenance": [],
      "authorship_tag": "ABX9TyOcOOBneM+GTq/Lk6nj0Xc1"
    },
    "kernelspec": {
      "name": "python3",
      "display_name": "Python 3"
    },
    "language_info": {
      "name": "python"
    }
  },
  "cells": [
    {
      "source": [
        "import random\n",
        "\n",
        "# Function to check if a number can be placed in a specific cell\n",
        "def is_safe(grid, row, col, num):\n",
        "    for x in range(9):\n",
        "        if grid[row][x] == num or grid[x][col] == num:\n",
        "            return False\n",
        "    start_row, start_col = 3 * (row // 3), 3 * (col // 3)\n",
        "    for i in range(3):\n",
        "        for j in range(3):\n",
        "            if grid[i + start_row][j + start_col] == num:\n",
        "                return False\n",
        "    return True\n",
        "\n",
        "# Function to generate a full Sudoku grid\n",
        "def generate_grid(grid):\n",
        "    for row in range(9):\n",
        "        for col in range(9):\n",
        "            if grid[row][col] == 0:\n",
        "                random.shuffle(numbers)\n",
        "                for num in numbers:\n",
        "                    if is_safe(grid, row, col, num):\n",
        "                        grid[row][col] = num\n",
        "                        if generate_grid(grid):\n",
        "                            return True\n",
        "                        grid[row][col] = 0\n",
        "                return False\n",
        "    return True\n",
        "\n",
        "# Function to remove elements from the grid to create a puzzle\n",
        "def remove_numbers(grid, difficulty):\n",
        "    attempts = difficulty\n",
        "    while attempts > 0:\n",
        "        row = random.randint(0, 8)\n",
        "        col = random.randint(0, 8)\n",
        "        while grid[row][col] == 0:\n",
        "            row = random.randint(0, 8)\n",
        "            col = random.randint(0, 8)\n",
        "        backup = grid[row][col]\n",
        "        grid[row][col] = 0\n",
        "        attempts -= 1\n",
        "    return grid\n",
        "\n",
        "# Function to print the Sudoku grid\n",
        "def print_grid(grid):\n",
        "    for row in grid:\n",
        "        print(row)\n",
        "\n",
        "# Generate a new Sudoku puzzle\n",
        "def generate_sudoku(difficulty=40):\n",
        "    grid = [[0 for _ in range(9)] for _ in range(9)]\n",
        "    global numbers\n",
        "    numbers = list(range(1, 10))\n",
        "    generate_grid(grid)\n",
        "    puzzle = remove_numbers(grid, difficulty)\n",
        "    return puzzle\n",
        "\n",
        "# Example usage\n",
        "if __name__ == \"__main__\":\n",
        "    difficulty = 60  # You can adjust difficulty by changing this value\n",
        "    sudoku = generate_sudoku(difficulty)\n",
        "    print(\"Generated Sudoku:\")\n",
        "    print_grid(sudoku)"
      ],
      "cell_type": "code",
      "metadata": {
        "id": "fMReYI5kB7TN",
        "outputId": "f166d4f3-94be-4a06-c2f4-8e5fc212caea",
        "colab": {
          "base_uri": "https://localhost:8080/"
        }
      },
      "execution_count": 2,
      "outputs": [
        {
          "output_type": "stream",
          "name": "stdout",
          "text": [
            "Generated Sudoku:\n",
            "[0, 0, 6, 7, 0, 0, 0, 0, 5]\n",
            "[0, 0, 8, 0, 0, 0, 0, 0, 2]\n",
            "[2, 0, 0, 0, 0, 4, 1, 0, 6]\n",
            "[0, 0, 1, 3, 0, 0, 0, 0, 0]\n",
            "[9, 3, 0, 0, 0, 0, 0, 0, 0]\n",
            "[0, 0, 0, 0, 0, 0, 0, 0, 0]\n",
            "[3, 0, 4, 9, 0, 0, 0, 0, 0]\n",
            "[6, 1, 0, 0, 0, 0, 0, 0, 0]\n",
            "[7, 0, 0, 0, 0, 0, 9, 0, 3]\n"
          ]
        }
      ]
    }
  ]
}